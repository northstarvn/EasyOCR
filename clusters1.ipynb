{
  "nbformat": 4,
  "nbformat_minor": 0,
  "metadata": {
    "colab": {
      "provenance": [],
      "authorship_tag": "ABX9TyOG69OXLM1pz4RyCQpvFEW5",
      "include_colab_link": true
    },
    "kernelspec": {
      "name": "python3",
      "display_name": "Python 3"
    },
    "language_info": {
      "name": "python"
    }
  },
  "cells": [
    {
      "cell_type": "markdown",
      "metadata": {
        "id": "view-in-github",
        "colab_type": "text"
      },
      "source": [
        "<a href=\"https://colab.research.google.com/github/northstarvn/EasyOCR/blob/master/clusters1.ipynb\" target=\"_parent\"><img src=\"https://colab.research.google.com/assets/colab-badge.svg\" alt=\"Open In Colab\"/></a>"
      ]
    },
    {
      "cell_type": "code",
      "execution_count": 14,
      "metadata": {
        "colab": {
          "base_uri": "https://localhost:8080/",
          "height": 430
        },
        "id": "wU5AiyAMFZIT",
        "outputId": "21a1fe2c-4ce6-4c0f-a93a-619a56c00a52"
      },
      "outputs": [
        {
          "output_type": "display_data",
          "data": {
            "text/plain": [
              "<Figure size 640x480 with 1 Axes>"
            ],
            "image/png": "[encoded data removed]"
          },
          "metadata": {}
        }
      ],
      "source": [
        "# prompt: demo how iris data is processed to find fuzzy clusters then display it\n",
        "!pip install scikit-fuzzy\n",
        "import matplotlib.pyplot as plt\n",
        "from sklearn import datasets\n",
        "import numpy as np\n",
        "import skfuzzy as fuzz\n",
        "from skfuzzy import control as ctrl\n",
        "\n",
        "# Load the Iris dataset\n",
        "iris = datasets.load_iris()\n",
        "\n",
        "# Get the sepal and petal lengths and widths\n",
        "sepal_length = iris.data[:, 0]\n",
        "sepal_width = iris.data[:, 1]\n",
        "petal_length = iris.data[:, 2]\n",
        "petal_width = iris.data[:, 3]\n",
        "\n",
        "# Create the fuzzy membership functions for each input variable\n",
        "sepal_length_fuzz = fuzz.trapmf(sepal_length, [0, 0, 4, 6])\n",
        "sepal_width_fuzz = fuzz.trapmf(sepal_width, [0, 0, 2.5, 4])\n",
        "petal_length_fuzz = fuzz.trapmf(petal_length, [0, 0, 1, 5])\n",
        "petal_width_fuzz = fuzz.trapmf(petal_width, [0, 0, 0.5, 2])\n",
        "\n",
        "# Reshape the input data for cmeans clustering\n",
        "data = np.vstack((sepal_length, sepal_width, petal_length, petal_width))\n",
        "\n",
        "# Apply cmeans clustering\n",
        "cntr, u, u0, d, jm, p, fpc = fuzz.cluster.cmeans(\n",
        "    data=data,\n",
        "    c=3, # Number of clusters\n",
        "    m=2,\n",
        "    error=0.005,\n",
        "    maxiter=1000,\n",
        "    init=None\n",
        ")\n",
        "\n",
        "# Predict cluster membership for each data point\n",
        "cluster_membership = np.argmax(u, axis=0)\n",
        "\n",
        "# Display the fuzzy clusters\n",
        "fig, axs = plt.subplots(2, 2)\n",
        "axs[0, 0].plot(sepal_length, sepal_length_fuzz)\n",
        "axs[0, 0].set_title('Sepal Length')\n",
        "axs[0, 1].plot(sepal_width, sepal_width_fuzz)\n",
        "axs[0, 1].set_title('Sepal Width')\n",
        "axs[1, 0].plot(petal_length, petal_length_fuzz)\n",
        "axs[1, 0].set_title('Petal Length')\n",
        "axs[1, 1].plot(petal_width, petal_width_fuzz)\n",
        "axs[1, 1].set_title('Petal Width')\n",
        "plt.tight_layout()\n",
        "plt.show()\n",
        "\n",
        "# Display the fuzzy clusters for each data point\n",
        "for i in range(len(iris.data)):\n",
        "  print(f\"Data point {i + 1}: Cluster {cluster_membership[i]}\")"
      ]
    }
  ]
}